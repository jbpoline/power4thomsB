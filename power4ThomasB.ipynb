{
 "cells": [
  {
   "cell_type": "markdown",
   "metadata": {},
   "source": [
    "# A simple power computation for Thomas ERC"
   ]
  },
  {
   "cell_type": "code",
   "execution_count": 1,
   "metadata": {
    "collapsed": true
   },
   "outputs": [],
   "source": [
    "import scipy.stats as sst\n",
    "import numpy as np\n",
    "import matplotlib.pyplot as plt\n",
    "%matplotlib inline"
   ]
  },
  {
   "cell_type": "code",
   "execution_count": 2,
   "metadata": {
    "collapsed": false
   },
   "outputs": [],
   "source": [
    "def proportion_power(n1, p1, n2, p2, alpha, science=True):\n",
    "    \"\"\"\n",
    "    Compute the power for detecting the difference between \n",
    "    two proportions p1 and p2 estimated on n1 and n2 samples.\n",
    "    \n",
    "    Attention: this would only give reasonable results if \n",
    "    n1*p1 >5, n1*(1-p1) > 5, n2*p2 >5, n2*(1-p2) >5 \n",
    "    \n",
    "    parameters:\n",
    "    -----------\n",
    "    n1: int\n",
    "        number of sample in the first population\n",
    "    p1: float\n",
    "        proportion of \"cases\" in the first population\n",
    "        \n",
    "    n2: int\n",
    "        number of sample in the second population\n",
    "    p2: float\n",
    "        proportion of \"cases\" in the second population\n",
    "    alpha: float\n",
    "        the risk of error of type I\n",
    "        \n",
    "    returns\n",
    "    --------\n",
    "    Power of detection at the alpha level\n",
    "    \n",
    "    \"\"\"\n",
    "    \n",
    "    if science:\n",
    "        try:\n",
    "            assert n1*p1 >5 and n1*(1-p1) > 5 and n2*p2 >5 and n2*(1-p2) >5\n",
    "        except:\n",
    "            print(\"not complying with : n1*p1 >5 and n1*(1-p1) > 5 and n2*p2 >5 and n2*(1-p2) >5\")\n",
    "            assert False\n",
    "    \n",
    "    z = sst.norm(0,1)\n",
    "    z_h0 = z.isf(alpha/2)\n",
    "    \n",
    "    p_pooled = (n1*p1 + n2*p2)/(n1 + n2)\n",
    "    n_pooled = (n1 + n2)/(n1*n2)\n",
    "    m_h1 = np.abs(p1 - p2)/np.sqrt(p_pooled*(1-p_pooled)*n_pooled)\n",
    "    z_h1 = sst.norm(m_h1, 1)\n",
    "    \n",
    "    return z_h1.sf(z_h0)\n",
    "    "
   ]
  },
  {
   "cell_type": "code",
   "execution_count": 3,
   "metadata": {
    "collapsed": false
   },
   "outputs": [
    {
     "data": {
      "text/plain": [
       "0.7658621502498808"
      ]
     },
     "execution_count": 3,
     "metadata": {},
     "output_type": "execute_result"
    }
   ],
   "source": [
    "nb_gene = 1000\n",
    "n_resilients = 60\n",
    "n_patients = 60\n",
    "p1 = .1\n",
    "p2 = .5\n",
    "alpha = 0.05/nb_gene\n",
    "\n",
    "proportion_power(n_resilients, p1, n_patients, p2, alpha)"
   ]
  },
  {
   "cell_type": "code",
   "execution_count": 7,
   "metadata": {
    "collapsed": false
   },
   "outputs": [
    {
     "data": {
      "text/plain": [
       "0.090603032159610464"
      ]
     },
     "execution_count": 7,
     "metadata": {},
     "output_type": "execute_result"
    }
   ],
   "source": [
    "n_resilients = 1791\n",
    "p_resilients = .0514\n",
    "\n",
    "n_patients = 1791\n",
    "p_patients = .0469\n",
    "\n",
    "alpha = 0.05\n",
    "proportion_power(n_resilients, p_resilients, \n",
    "                 n_patients, p_patients, alpha)"
   ]
  },
  {
   "cell_type": "code",
   "execution_count": 8,
   "metadata": {
    "collapsed": true
   },
   "outputs": [],
   "source": [
    "inh_aff = .111669458403127/100\n",
    "inh_sib = .0558347292015634/100\n",
    "\n",
    "n = 3/(inh_aff + inh_sib)\n"
   ]
  },
  {
   "cell_type": "markdown",
   "metadata": {},
   "source": [
    "### Cas plus reel ?"
   ]
  },
  {
   "cell_type": "code",
   "execution_count": 9,
   "metadata": {
    "collapsed": false
   },
   "outputs": [
    {
     "data": {
      "text/plain": [
       "0.083428786358195117"
      ]
     },
     "execution_count": 9,
     "metadata": {},
     "output_type": "execute_result"
    }
   ],
   "source": [
    "n_resilients = 1791\n",
    "p_resilients = inh_sib\n",
    "\n",
    "n_patients = 1791\n",
    "p_patients = inh_aff\n",
    "\n",
    "alpha = 0.05\n",
    "proportion_power(n_resilients, p_resilients, \n",
    "                 n_patients, p_patients, alpha, science=False)"
   ]
  }
 ],
 "metadata": {
  "kernelspec": {
   "display_name": "Python 3",
   "language": "python",
   "name": "python3"
  },
  "language_info": {
   "codemirror_mode": {
    "name": "ipython",
    "version": 3
   },
   "file_extension": ".py",
   "mimetype": "text/x-python",
   "name": "python",
   "nbconvert_exporter": "python",
   "pygments_lexer": "ipython3",
   "version": "3.5.1+"
  }
 },
 "nbformat": 4,
 "nbformat_minor": 1
}
